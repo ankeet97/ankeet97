{
 "cells": [
  {
   "cell_type": "markdown",
   "id": "6e401151",
   "metadata": {},
   "source": [
    "### Python Implementation"
   ]
  },
  {
   "cell_type": "code",
   "execution_count": 1,
   "id": "bc3a6492",
   "metadata": {},
   "outputs": [],
   "source": [
    "import numpy as np\n",
    "from sklearn.cluster import DBSCAN\n",
    "from sklearn import metrics\n",
    "from sklearn.datasets import make_blobs\n",
    "from sklearn.preprocessing import StandardScaler"
   ]
  },
  {
   "cell_type": "code",
   "execution_count": 10,
   "id": "b171a929",
   "metadata": {},
   "outputs": [],
   "source": [
    "# Data Creation\n",
    "centers = [[1,1],[-1,-1],[1,-1]]\n",
    "x, labels_true = make_blobs(n_samples = 750, centers = centers, cluster_std = 0.4,random_state =0)# generate sample blobs"
   ]
  },
  {
   "cell_type": "code",
   "execution_count": 11,
   "id": "3f600d6e",
   "metadata": {},
   "outputs": [
    {
     "data": {
      "text/plain": [
       "array([[ 0.49426097,  1.45106697],\n",
       "       [-1.42808099, -0.83706377],\n",
       "       [ 0.33855918,  1.03875871],\n",
       "       [ 0.11900101, -1.05397553],\n",
       "       [ 1.1224246 ,  1.77493654]])"
      ]
     },
     "execution_count": 11,
     "metadata": {},
     "output_type": "execute_result"
    }
   ],
   "source": [
    "x = StandardScaler().fit_transform(x)\n",
    "x[:5]"
   ]
  },
  {
   "cell_type": "code",
   "execution_count": 30,
   "id": "9af072de",
   "metadata": {},
   "outputs": [],
   "source": [
    "# DBSCAN\n",
    "db = DBSCAN(eps = 0.25,min_samples = 4).fit(x)"
   ]
  },
  {
   "cell_type": "code",
   "execution_count": 31,
   "id": "0e9a4e91",
   "metadata": {},
   "outputs": [
    {
     "name": "stdout",
     "output_type": "stream",
     "text": [
      "[ 0  1  0  1  0  1  1  1  0  0  1  1  1  1  1  0 -1  1  1  1  1  1  1  1\n",
      "  1  1  1  0  0  1  0  1  1  0  1  0  1  0  0  1  1  1  1  1  1  1  0  1\n",
      "  0  1  1  1  1  1  1  1  1  0  1  1  1  1  1  1  1  0  1  1  0  0  0  1\n",
      "  0  0  1  1  0  1  0  1  1  1  0  0  0  0  1  1  1  1  1  0  1  0  1 -1\n",
      "  1  1  0  0  1  1  1  0  1  1  1  1  0  0  0  1  1  1  1  0  0  1  0  1\n",
      "  1  1  0  0  1  1  1  0  0  1  0  1  1  1  0 -1  1  1  0  1  0  1  0  0\n",
      "  1  1  1  1  1  0  1  1  1  1  1  1  0  1  0  1  0  1  0  1  1 -1  1  1\n",
      "  1  1  0  1  1  1  1  1  1  1  1  0  1  1  0  0  1  0  0  1  0  1  0  1\n",
      "  1  1  1  0  0  1  1  1  1  1  1  1  1  0  1  0  1  1  0  1  1  1  0  0\n",
      "  1  1  1  1  1  1  1  1  1  1  0  0  1  0  0  0  1  0  1  1  1  1  1  1\n",
      "  0  1  1  1  1  1  1  1  0  0  1  1  1  0  1  0  1  0  1  1  1  1  1  1\n",
      "  1  0  0  1  1  0  0  1  1 -1  1  1  1  1  1  1  0  1 -1  0  1  1  1  0\n",
      "  1  1  0  0  1  0  1  0  1  1  0  0  0  1  1  1  1  1  0  1  1  0  0  1\n",
      "  1  1  1  1  1  0  1  1  1  1  0  0  1  1  1  0  1  0  1  1  1  0  0  1\n",
      "  0 -1  1  0  1  0  1  0  1  1  0  1  0  1  0  1  1  1  1  1  1  0  1  0\n",
      "  1  1  1  1  0  1  0  1  0  0  0  0  1  0  1  0  1  0  1  1  1  1  1  0\n",
      "  1  1  0  1  1  0  1  1  1  1  1  1  1  1  1  1  1  0  1  1  1  1  0  1\n",
      "  0  1  1  0  1  1  1  1  0  0  1  1  1  1  1  1  1  0  0  0  0  1  0  1\n",
      "  1  0  1  1  0  0  1  0  1  1  0 -1  0  1  1  1  1  1  1  0  1  0  0  1\n",
      "  0  1  1  1  1 -1  0  1  1  1  1  1  1  1  0  0  0  1  1  1  1  1  0  0\n",
      "  1  1  1  0  0  1  0  1  0  1  1  0  1  1  1  0  0  0  1  1  1  0  1  0\n",
      "  0  1  1  1  1  0  1  0  1  0  0  1  0  1  1  1  1  1  0  1  0  1  1  0\n",
      "  0  1  0 -1  1  1  1  1  1  1  1  1  1  1  1  1  1  0  0  0  1  1  1  0\n",
      "  1  0  1  1  0  1  1  0  0  1  1  1  1  1  0  1  1  1  1  1  0  0  1  0\n",
      "  1  1  0  1  0  1  1  1  1  0  0  0  1  1  1  1  1  1  1  1  0  1  1  1\n",
      "  0  0  1  0  1  1  1  1  0  1  1  0  0  1  0  0  1  0  0  0  1  0  1  0\n",
      "  0  1  1  0  0  1  1  1  0  0  0  0  1  1  1  1  1  1  0  0  1  1  0  1\n",
      "  1  0  1  1  1  1  0  0  1  1  1  0  0  0  1  1  1  0  1  1  1  1  1  0\n",
      "  0  1  1  1  0  1  1  1  0  1  1  1 -1  1  1  1  0  1  1  1  0  0  0  1\n",
      "  1  1  0  0  1  1  1  1  1  1  0  1  1  1  1  1  1  1  0  1  0  1  1  0\n",
      "  0  1  1  1  0  1  0  0  0  1  0  1  1  1  0  1  0  0  1  0  1  1  1  1\n",
      "  1  0  1  1  1  1]\n"
     ]
    }
   ],
   "source": [
    "labels = db.labels_ # similar to the model.fit()method,it gives the lables of the clustered data\n",
    "print(labels)"
   ]
  },
  {
   "cell_type": "code",
   "execution_count": 32,
   "id": "a5fa2d76",
   "metadata": {},
   "outputs": [
    {
     "data": {
      "text/plain": [
       "3"
      ]
     },
     "execution_count": 32,
     "metadata": {},
     "output_type": "execute_result"
    }
   ],
   "source": [
    "len(set(labels))"
   ]
  },
  {
   "cell_type": "code",
   "execution_count": 33,
   "id": "25d60ed8",
   "metadata": {},
   "outputs": [
    {
     "data": {
      "text/plain": [
       "1"
      ]
     },
     "execution_count": 33,
     "metadata": {},
     "output_type": "execute_result"
    }
   ],
   "source": [
    "1 if -1 in labels else 0"
   ]
  },
  {
   "cell_type": "code",
   "execution_count": 34,
   "id": "675bb2da",
   "metadata": {},
   "outputs": [],
   "source": [
    "# Number of clusters in labels,ignoring noise if present.\n",
    "n_clusters = len(set(labels)) - (1 if -1 in labels else 0)# the label -1 is considered as noise by DBSCAN algorithms\n",
    "n_noise = list(labels).count(-1)"
   ]
  },
  {
   "cell_type": "code",
   "execution_count": 35,
   "id": "b2c68d43",
   "metadata": {},
   "outputs": [
    {
     "name": "stdout",
     "output_type": "stream",
     "text": [
      "Estimated numbers of clusters: 2\n",
      "Estimated number of points: 11\n"
     ]
    }
   ],
   "source": [
    "print('Estimated numbers of clusters: %d' % n_clusters)\n",
    "print('Estimated number of points: %d' % n_noise)"
   ]
  },
  {
   "cell_type": "markdown",
   "id": "62e89753",
   "metadata": {},
   "source": [
    "# Finding counts in each cluster"
   ]
  },
  {
   "cell_type": "code",
   "execution_count": 36,
   "id": "150f9c8a",
   "metadata": {},
   "outputs": [
    {
     "data": {
      "text/plain": [
       "(array([-1,  0,  1], dtype=int64), array([ 11, 247, 492], dtype=int64))"
      ]
     },
     "execution_count": 36,
     "metadata": {},
     "output_type": "execute_result"
    }
   ],
   "source": [
    "np.unique(labels,return_counts = True)"
   ]
  },
  {
   "cell_type": "markdown",
   "id": "e4db604d",
   "metadata": {},
   "source": [
    "### selecting only noise or outliers for further action."
   ]
  },
  {
   "cell_type": "code",
   "execution_count": 38,
   "id": "c54c6d4e",
   "metadata": {},
   "outputs": [
    {
     "name": "stdout",
     "output_type": "stream",
     "text": [
      "[[-1.4302079  -1.82380068]\n",
      " [ 1.22425496  0.50161091]\n",
      " [-1.53199232 -1.74146844]\n",
      " [-0.46307453 -1.26531795]\n",
      " [ 1.62198217  0.05020132]\n",
      " [-0.18357785 -0.12543358]\n",
      " [ 0.90491286 -1.62473398]\n",
      " [-0.43185167 -1.10093485]\n",
      " [-0.3164503  -1.51218921]\n",
      " [-2.27447427 -1.08752048]\n",
      " [-0.37447929 -1.13624183]]\n"
     ]
    }
   ],
   "source": [
    "noises = x[labels == -1]\n",
    "print(noises)"
   ]
  },
  {
   "cell_type": "code",
   "execution_count": null,
   "id": "1ce04bc4",
   "metadata": {},
   "outputs": [],
   "source": []
  }
 ],
 "metadata": {
  "kernelspec": {
   "display_name": "Python 3 (ipykernel)",
   "language": "python",
   "name": "python3"
  },
  "language_info": {
   "codemirror_mode": {
    "name": "ipython",
    "version": 3
   },
   "file_extension": ".py",
   "mimetype": "text/x-python",
   "name": "python",
   "nbconvert_exporter": "python",
   "pygments_lexer": "ipython3",
   "version": "3.9.12"
  }
 },
 "nbformat": 4,
 "nbformat_minor": 5
}
